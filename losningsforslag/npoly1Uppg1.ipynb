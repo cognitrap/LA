{
 "cells": [
  {
   "cell_type": "markdown",
   "id": "annual-response",
   "metadata": {},
   "source": [
    "Uppgift 1\n",
    "\n",
    "$x\\text{²}-xy+4y\\text{²}+x+4y-3=0 $\n",
    "\n",
    "\n",
    "Vi utgår från att ellipsen skrivs på formen $x^{2}+axy+by^{2}+cx+dy+e=0$\n",
    "\n",
    "Punkterna var: (-0,816;0,47), (-0,169;0,507), (0,793;0,344), (0,375;-1,362), (-2,59;-1,456).\n",
    "\n",
    "Vi kan skriva om den som $axy+by^{2}+cx+dy+e=-x^2$\n",
    "\n",
    "\n",
    "Matrisen är $$A= \\left(\\begin{array}{ccccc}\n",
    "−0,38352 &  0,2209 & -0,816 & 0,47 & 1\\\\\n",
    "−0,085683 & 0,257049 & -0,169 & 0,507 & 1\\\\\n",
    "0,272792 & 0,118336 & 0,793 & 0,344 & 1\\\\\n",
    "-0,51075 & 1,855044 & 0,375 & -1,363 & 1\\\\\n",
    "3,77104 & 2,119936 & -2,59 & -1,456 & 1\n",
    "\\end{array}\\right) $$\n",
    "\n",
    "och $$ b=\\left(\\begin{array}{c}\n",
    "-0,665856\\\\\n",
    "-0,028561\\\\\n",
    "-0,628849\\\\\n",
    "-0,140625\\\\\n",
    "-6,7081\n",
    "\\end{array}\\right)$$"
   ]
  },
  {
   "cell_type": "code",
   "execution_count": 26,
   "id": "obvious-auckland",
   "metadata": {},
   "outputs": [
    {
     "name": "stdout",
     "output_type": "stream",
     "text": [
      "[[-1.  ]\n",
      " [ 3.98]\n",
      " [ 1.  ]\n",
      " [ 3.98]\n",
      " [-2.98]]\n"
     ]
    }
   ],
   "source": [
    "import numpy as np\n",
    "\n",
    "A=np.array([[-0.38352, 0.2209,-0.816,0.47, 1],[-0.085683,0.257049,-0.169,0.507,1],[0.272792,0.118336,0.793,0.344,1],\n",
    "            [-0.51075, 1.855044, 0.375, -1.363, 1], [3.77104, 2.119936, -2.59, -1.456, 1]])\n",
    "b=np.array([-0.665856, -0.028561, -0.628849, -0.140625, -6.7081]).reshape(5,1)\n",
    "x=np.linalg.solve(A,b)\n",
    "print(np.round(x,2))"
   ]
  },
  {
   "cell_type": "markdown",
   "id": "outer-natural",
   "metadata": {},
   "source": [
    "Vilket innebär att a=-1, b=4, c=1, d=4,e=-3, dvs. $x\\text{²}-xy+4y\\text{²}+x+4y-3=0 $\n",
    "\n",
    "\n",
    "\n",
    "Vi ritar grafen över ellipsen.\n"
   ]
  },
  {
   "cell_type": "code",
   "execution_count": 10,
   "id": "russian-clinic",
   "metadata": {},
   "outputs": [
    {
     "data": {
      "image/png": "[encoded data removed]",
      "text/plain": [
       "<Figure size 432x288 with 1 Axes>"
      ]
     },
     "metadata": {
      "needs_background": "light"
     },
     "output_type": "display_data"
    },
    {
     "data": {
      "text/plain": [
       "<sympy.plotting.plot.Plot at 0x7f8737ebe0a0>"
      ]
     },
     "execution_count": 10,
     "metadata": {},
     "output_type": "execute_result"
    }
   ],
   "source": [
    "from sympy import var, plot_implicit, Eq\n",
    "\n",
    "var('x y')\n",
    "plot_implicit(Eq(x**2-x*y+4*y**2+x-4*y-3,0))\n"
   ]
  },
  {
   "cell_type": "code",
   "execution_count": null,
   "id": "atlantic-exchange",
   "metadata": {},
   "outputs": [],
   "source": []
  }
 ],
 "metadata": {
  "kernelspec": {
   "display_name": "Python 3",
   "language": "python",
   "name": "python3"
  },
  "language_info": {
   "codemirror_mode": {
    "name": "ipython",
    "version": 3
   },
   "file_extension": ".py",
   "mimetype": "text/x-python",
   "name": "python",
   "nbconvert_exporter": "python",
   "pygments_lexer": "ipython3",
   "version": "3.8.5"
  }
 },
 "nbformat": 4,
 "nbformat_minor": 5
}
