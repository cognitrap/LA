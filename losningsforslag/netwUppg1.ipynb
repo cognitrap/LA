{
 "cells": [
  {
   "cell_type": "markdown",
   "id": "established-vision",
   "metadata": {},
   "source": [
    "Uppgift 1"
   ]
  },
  {
   "cell_type": "code",
   "execution_count": null,
   "id": "terminal-prediction",
   "metadata": {},
   "outputs": [],
   "source": [
    "import sympy as sp\n",
    "x1, x2, x3, x4, x5, x6 = sp.symbols('x1 x2 x3 x4 x5 x6') #definierar vad som är symboler\n",
    "\n",
    "#kraftfullt kommando från symbolic python modulen\n",
    "#klarar av att ange parameterlösningar\n",
    "sp.linsolve([x1-x4-900,x1-x2-x5-500,x2-x3-x6,x3-x4-100, x5+x6-300], (x1, x2, x3, x4, x5, x6))"
   ]
  }
 ],
 "metadata": {
  "kernelspec": {
   "display_name": "Python 3",
   "language": "python",
   "name": "python3"
  },
  "language_info": {
   "codemirror_mode": {
    "name": "ipython",
    "version": 3
   },
   "file_extension": ".py",
   "mimetype": "text/x-python",
   "name": "python",
   "nbconvert_exporter": "python",
   "pygments_lexer": "ipython3",
   "version": "3.8.5"
  }
 },
 "nbformat": 4,
 "nbformat_minor": 5
}
