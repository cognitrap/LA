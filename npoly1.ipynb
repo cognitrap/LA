{
 "cells": [
  {
   "cell_type": "markdown",
   "id": "worthy-nudist",
   "metadata": {},
   "source": [
    "### Anpassning av n:te gradspolynom till n+1 punkter\n",
    "\n",
    "Bestäm det 3:e gradspolynom $ p(x)=a_{0}+a_{1}x+a_{2}x^{2}+a_{3}x^{3}$ som går igenom punkterna $ \\left(0,1\\right),\\,\\left(2,4\\right),\\,\\left(-1,3\\right)$ och $\\left(4,-1\\right)$. Ekvationen blir för $ \\left(2,4\\right): 4=p(2)=a_{0}+2a_{1}+4a_{2}+8a_{3} $. Med $p(0)$ på översta raden och därunder $p(2)$, $p(-1)$ och nederst $p(4)$,\n",
    "\n",
    "$$\\left(\\begin{array}{crrrr}\n",
    "1 & 0 & 0 & 0 & 1\\\\\n",
    "1 & 2 & 4 & 8 & 4\\\\\n",
    "1 & -1 & 1 & -1 & 3\\\\\n",
    "1 & 4 & 16 & 64 & -1\n",
    "\\end{array}\\right)$$,\n",
    "\n",
    "som löses genom successiv elimination $$\\left(\\begin{array}{ccccr}\n",
    "1 &  &  &  & 1\\\\\n",
    " & 1 &  &  & \\frac{1}{30}\\\\\n",
    " &  & 1 &  & \\frac{8}{5}\\\\\n",
    " &  &  & 1 & -\\frac{13}{30}\n",
    "\\end{array}\\right), $$ d.v.s. $a_{0}=1$, $a_{1}=1/30$, $a_{2}=1,6$ och $a_{3}=-13/30$. Vi ser t.ex. att det stämmer för $\\left(2,4\\right)$ ty $p(2)=1+\\frac{1}{30}\\cdot2+1,6\\cdot4-\\frac{13}{30}\\cdot8=4$.\n",
    "\n",
    "\n",
    "Pythons uppgift blir att lösa ekvationssystemet. Vi plottar också en graf med punkterna och kurvan."
   ]
  },
  {
   "cell_type": "code",
   "execution_count": 10,
   "id": "stunning-designation",
   "metadata": {},
   "outputs": [
    {
     "name": "stdout",
     "output_type": "stream",
     "text": [
      "[[ 1.        ]\n",
      " [ 0.03333333]\n",
      " [ 1.6       ]\n",
      " [-0.43333333]]\n"
     ]
    },
    {
     "data": {
      "image/png": "[encoded data removed]",
      "text/plain": [
       "<Figure size 432x288 with 1 Axes>"
      ]
     },
     "metadata": {
      "needs_background": "light"
     },
     "output_type": "display_data"
    }
   ],
   "source": [
    "#Lösning av ekvationssystemet\n",
    "import numpy as np\n",
    "L=[[0,1], [2,4], [-1,3], [4,-1]]\n",
    "\n",
    "Lx=[0,2,-1,4]; Ly=[1,4,3,-1]\n",
    "A=np.array([[1,0,0,0],[1,2,4,8],[1,-1,1,-1],[1,4,16,64]])\n",
    "b=np.array([1,4,3,-1]).reshape(4,1)\n",
    "x=np.linalg.solve(A,b)\n",
    "print(x)\n",
    "\n",
    "#Plot\n",
    "\n",
    "import matplotlib.pyplot as plt\n",
    "\n",
    "#Värdetabell\n",
    "xv=np.linspace(-10, 10, 100)\n",
    "yv=x[0]+x[1]*xv+x[2]*xv**2+x[3]*xv**3\n",
    "\n",
    "#Nu ritar vi!\n",
    "\n",
    "plt.axis([-6,6,-6,8])\n",
    "plt.plot(xv,yv)\n",
    "plt.scatter(Lx,Ly)\n",
    "plt.show()"
   ]
  },
  {
   "cell_type": "markdown",
   "id": "palestinian-pension",
   "metadata": {},
   "source": [
    "**Uppgift 1**\n",
    "\n",
    "\n",
    "![Två ellipser](./Pictures/twoellipses.png)\n",
    "\n",
    "\n",
    "För att entydigt bestämma en ellips krävs 5 punkter, se exempel på ellipser i figur \n",
    "Bestäm den ellips som går igenom punkterna (använder semikolon som skiljetecken mellan koordinater): A=(-0,816;0,47), B=(-0,169;0,507), C=(0,793;0,344), D=(0,375;-1,362), E=(-2,59;-1,456). \n",
    "\n",
    "En ellips beskrivs av ekvationen: $ x^{2}+axy+by^{2}+cx+dy+e=0$ där $a,\\,b,\\,c,\\,d,\\,e$ är de obekanta som ska bestämmas. Sätt upp ekvationssystemet och lös det med hjälp av python.\n",
    "\n",
    "\n",
    "\n",
    "[Lösningsförslag](./losningsforslag/npoly1Uppg1.ipynb)"
   ]
  },
  {
   "cell_type": "code",
   "execution_count": null,
   "id": "outside-making",
   "metadata": {},
   "outputs": [],
   "source": []
  }
 ],
 "metadata": {
  "kernelspec": {
   "display_name": "Python 3",
   "language": "python",
   "name": "python3"
  },
  "language_info": {
   "codemirror_mode": {
    "name": "ipython",
    "version": 3
   },
   "file_extension": ".py",
   "mimetype": "text/x-python",
   "name": "python",
   "nbconvert_exporter": "python",
   "pygments_lexer": "ipython3",
   "version": "3.8.5"
  }
 },
 "nbformat": 4,
 "nbformat_minor": 5
}
