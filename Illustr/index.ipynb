{
 "cells": [
  {
   "cell_type": "markdown",
   "metadata": {},
   "source": [
    "## Problemlösning i linjär algebra med hjälp av python\n",
    "\n",
    "Du bör vara bekant med kommandona kring begrepp i linjär algebra (transponat, invers, skalärprodukt...)"
   ]
  },
  {
   "cell_type": "markdown",
   "metadata": {},
   "source": [
    "Uppgift 1\n",
    "\n",
    "[Anpassning av n:te gradspolynom till n+1 punkter](./npoly1.ipynb)\n",
    "\n",
    "\n",
    "\n",
    "[Lösningsförslag](./losningsforslag/npoly1Uppg1.ipynb)\n"
   ]
  },
  {
   "cell_type": "markdown",
   "metadata": {},
   "source": [
    "Uppgift 2\n",
    "\n",
    "[Nätverksanalys](./netw.ipynp)\n",
    "\n",
    "Nätverk kan bestå av bilar som kör på gator, ström i elektriska ledningar, vattenflöden i en stad eller i naturen,\n",
    "dataöverföring osv.\n",
    "\n",
    "\n",
    "\n",
    "[Lösningsförslag](./losningsforslag/netwUppg.ipynb)"
   ]
  },
  {
   "cell_type": "code",
   "execution_count": null,
   "metadata": {},
   "outputs": [],
   "source": []
  }
 ],
 "metadata": {
  "kernelspec": {
   "display_name": "Python 3",
   "language": "python",
   "name": "python3"
  },
  "language_info": {
   "codemirror_mode": {
    "name": "ipython",
    "version": 3
   },
   "file_extension": ".py",
   "mimetype": "text/x-python",
   "name": "python",
   "nbconvert_exporter": "python",
   "pygments_lexer": "ipython3",
   "version": "3.8.5"
  }
 },
 "nbformat": 4,
 "nbformat_minor": 4
}
