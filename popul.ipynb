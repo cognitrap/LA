{
 "cells": [
  {
   "cell_type": "markdown",
   "id": "prerequisite-first",
   "metadata": {},
   "source": [
    "\n",
    "\n",
    "Materialet och exempel från Mathematical Models in Biology : An Introduction\n",
    "\n",
    "    Författare: Allman, Elizabeth Spencer, Rhodes, John A.\n",
    "    Datum: 2004\n",
    "    \n",
    "    \n",
    "\n",
    "\n",
    "Vi föreställer oss en skog med två sorters träd. Antalet träd av de olika sorterna vid en given tidpunkt $t$ beteckans med $A_t$ respektive $B_t$. När ett träd dör blir en plats ledig och den nya platsen kan tas upp av ett $A$ eller $B$ träd.\n",
    "\n",
    "\n",
    "Antag att träd $A$ är långlivad och att endast 1% av dem dör varje år. Av typ $B$ dör 5% varje år. Av olika anledningar har B större chans att kunna ta över en ledig plats, säg 75%. Sannolikheten för att träd av typ A ska ta platsen är då resten, 25%. Vi kan sammanfatta detta matematiskt. $A_{t+1}$ betecknar antalet träd av typ $A$ nästa år.\n",
    "\n",
    "\n",
    "$A_{t+1}=0,99A_t + 0,25 \\cdot 0,01A_t+0,25\\cdot 0,05B_t$\n",
    "\n",
    "$B_{t+1}=0,75 \\cdot 0,01A_t +0,95B_t+0,75 \\cdot0,05B_t$\n",
    "\n",
    "Uppgift 1. Förklara de olika termernas innebörd.\n",
    "\n",
    "\n",
    "Vi förenklar uttrycken:\n",
    "\n",
    "$A_{t+1}=0,9925A_t+0,0125B_t$\n",
    "\n",
    "$B_{t+1}=0,0075A_t+0,9875B_t$\n",
    "\n",
    "\n",
    "Relationerna kan skrivas med hjälp av matris: $X_{t+1}=TX_{t}$ med \n",
    "\n",
    "$$X_{t}=\\left(\\begin{array}{c}\n",
    "A_{t}\\\\\n",
    "B_{t}\n",
    "\\end{array}\\right)\n",
    ",$$\n",
    "$$X_{t+1}=\\left(\\begin{array}{c}\n",
    "A_{t+1}\\\\\n",
    "B_{t+1}\n",
    "\\end{array}\\right)\n",
    "$$\n",
    "och \n",
    "\n",
    "$$\n",
    "T=\\left(\\begin{array}{cc}\n",
    "0,9925 & 0,0125\\\\\n",
    "0,0075 & 0,9875\n",
    "\\end{array}\\right)\n",
    ".$$\n",
    "\n",
    "\n",
    "Genom att välja olika utgångslägen $A_0=10$ och $B_0=990$ kan vi studera tidsutvecklingen steg för steg och plotta värdena i en graf. Vi skriver ett litet program i python."
   ]
  },
  {
   "cell_type": "code",
   "execution_count": 52,
   "id": "lightweight-claim",
   "metadata": {},
   "outputs": [
    {
     "name": "stdout",
     "output_type": "stream",
     "text": [
      "x 625.0000000000482  y 375.00000000003087\n"
     ]
    },
    {
     "data": {
      "image/png": "[encoded data removed]",
      "text/plain": [
       "<Figure size 432x288 with 1 Axes>"
      ]
     },
     "metadata": {
      "needs_background": "light"
     },
     "output_type": "display_data"
    }
   ],
   "source": [
    "import matplotlib.pyplot as plt\n",
    "import numpy as np\n",
    "\n",
    "#Startvärdena för träden\n",
    "X=np.array([10,990]).reshape(2,1)\n",
    "\n",
    "#Matrisen\n",
    "T=np.array([[0.9925, 0.0125],[0.0075, 0.9875]])\n",
    "nr=np.arange(0,1800,1)\n",
    "Xserie=X\n",
    "\n",
    "#Vi lagrar alla resultat i Xserie\n",
    "for i in nr:\n",
    "    X=T@X\n",
    "    Xserie=np.hstack((Xserie,X))\n",
    "\n",
    "\n",
    "#Alla x-värden i en vektor, y i en annan\n",
    "x=[];y=[]\n",
    "for i in nr+1:\n",
    "    x.append(Xserie[0][i])\n",
    "    y.append(Xserie[1][i])\n",
    "\n",
    "#Vill se sista värdet i tabellen\n",
    "print(\"x\", x[-1], \" y\", y[-1])\n",
    "\n",
    "plt.plot(x, \"+\")\n",
    "plt.plot(y, \"o\")\n",
    "plt.show()\n"
   ]
  },
  {
   "cell_type": "markdown",
   "id": "killing-wellington",
   "metadata": {},
   "source": [
    "Verkar som om det finns någon form av jämviktsläge vid $A=625$ respektive $B=375$. Vi startade med $A_0=10, B_0=990$.\n",
    "Prova olika startvärden för att se om det verkar hålla. En djupare fråga är var värdena 625 och 375 kommer ifrån."
   ]
  },
  {
   "cell_type": "markdown",
   "id": "satisfied-sally",
   "metadata": {},
   "source": [
    "För att föstå systemets beteende beräknar vi egenvärdena för matrisen. Vi kan beräkna dem för hand eftersom matrisen bara är 2 gånger 2. Python kan också göra det, se kodblocket nedan, och vi erhåller att egenvärdena är 1 och 0,98.\n",
    "\n",
    "Egenvektorerna är (0.85749293,0.51449576) och (-0.70710678, 0.70710678). Viket, om vi studerar kvoterna mellan elementen får oss att tro att den andra vektorn lika gärna kan skrivas (-1,1). Och 0.85749293/0.51449576=1,66666666 dvs 5/3 så första egenvektorn kan skriva (5, 3)."
   ]
  },
  {
   "cell_type": "code",
   "execution_count": 53,
   "id": "posted-clinton",
   "metadata": {},
   "outputs": [
    {
     "name": "stdout",
     "output_type": "stream",
     "text": [
      "(array([1.  , 0.98]), array([[ 0.85749293, -0.70710678],\n",
      "       [ 0.51449576,  0.70710678]]))\n"
     ]
    }
   ],
   "source": [
    "import numpy as np\n",
    "\n",
    "T=np.array([[0.9925, 0.0125],[0.0075, 0.9875]])\n",
    "\n",
    "\n",
    "EV=np.linalg.eig(T)\n",
    "print(EV)"
   ]
  },
  {
   "cell_type": "markdown",
   "id": "nominated-growing",
   "metadata": {},
   "source": [
    "Det gäller således för vår matris T att \n",
    "\n",
    "$$ \n",
    "T\\left(\\begin{array}{c}\n",
    "5\\\\\n",
    "3\n",
    "\\end{array}\\right)=1\\left(\\begin{array}{c}\n",
    "5\\\\\n",
    "3\n",
    "\\end{array}\\right)\n",
    "$$\n",
    "\n",
    "och\n",
    "\n",
    "$$\n",
    "T\\left(\\begin{array}{c}\n",
    "-1\\\\\n",
    "1\n",
    "\\end{array}\\right)=0,98\\left(\\begin{array}{c}\n",
    "-1\\\\\n",
    "1\n",
    "\\end{array}\\right)\n",
    "$$\n"
   ]
  },
  {
   "cell_type": "markdown",
   "id": "personal-colon",
   "metadata": {},
   "source": [
    "Vi kan nu använda egenvektorerna som en bas. Vi skriver $X_0$ med hjälp av egenvektorerna $V_1$ och $V_2$:\n",
    "$$\n",
    "X_{0}=c_{1}V_{1}+c_{2}V_{2}.\n",
    "$$\n",
    "\n",
    "\n",
    "i vårt specifika fall\n",
    "\n",
    "$$\n",
    "\\left(\\begin{array}{c}\n",
    "10\\\\\n",
    "990\n",
    "\\end{array}\\right)=c_{1}\\left(\\begin{array}{c}\n",
    "5\\\\\n",
    "3\n",
    "\\end{array}\\right)+c_{2}\\left(\\begin{array}{c}\n",
    "-1\\\\\n",
    "1\n",
    "\\end{array}\\right).\n",
    "$$\n",
    "\n",
    "\n",
    "Om vi vill beräkna $X_1$, nästa tidssteg, så multiplicerar vi med $T$:\n",
    "\n",
    "$$TX_{0}=c_{1}TV_{1}+c_{2}TV_{2}.$$\n",
    "\n",
    "Och $TX_{0}=X_1$, och för egenvektorna med egenvärden gäller att $TV_1=\\lambda_1V_1$, $TV_2=\\lambda_2V_2$. Detta upprepar sig $TX_1=X_2$ osv. $T(\\lambda_1V_1)={\\lambda_1}^2V_1$. Efter $n$ tidssteg:\n",
    "\n",
    "\n",
    "$$X_{n}=c_{1}\\lambda^{n}V_{1}+c_{2}\\lambda^{n}V_{2}.$$\n",
    "\n",
    "\n",
    "\n",
    "\n"
   ]
  },
  {
   "cell_type": "markdown",
   "id": "driven-addiction",
   "metadata": {},
   "source": [
    "Vi tillämpar uppdelningen i egenvektorer på vårt ursprungliga problem. Vi bestämmer $c_1$ och $c_2$.\n",
    "Vi hade\n",
    "\n",
    "$$\n",
    "\\left(\\begin{array}{c}\n",
    "10\\\\\n",
    "990\n",
    "\\end{array}\\right)=c_{1}\\left(\\begin{array}{c}\n",
    "5\\\\\n",
    "3\n",
    "\\end{array}\\right)+c_{2}\\left(\\begin{array}{c}\n",
    "-1\\\\\n",
    "1\n",
    "\\end{array}\\right)\n",
    ".$$\n",
    "\n",
    "\n",
    "Som kan skrivas\n",
    "\n",
    "$$\n",
    "\\left(\\begin{array}{c}\n",
    "10\\\\\n",
    "990\n",
    "\\end{array}\\right)=\\left(\\begin{array}{cc}\n",
    "5 & -1\\\\\n",
    "3 & 1\n",
    "\\end{array}\\right)\\left(\\begin{array}{c}\n",
    "c_{1}\\\\\n",
    "c_{2}\n",
    "\\end{array}\\right)\n",
    ".$$\n",
    "\n",
    "\n",
    "Genom att bestämma inversen kan vi bestämma koefficienterna. Vi ber python bestämma inversen till\n",
    "$$ \\left(\\begin{array}{cc}\n",
    "5 & -1\\\\\n",
    "3 & 1\n",
    "\\end{array}\\right)$$"
   ]
  },
  {
   "cell_type": "markdown",
   "id": "perceived-homework",
   "metadata": {},
   "source": [
    "\n"
   ]
  },
  {
   "cell_type": "code",
   "execution_count": 54,
   "id": "familiar-department",
   "metadata": {},
   "outputs": [
    {
     "name": "stdout",
     "output_type": "stream",
     "text": [
      "Koefficienterna är \n",
      " [[125.]\n",
      " [615.]]\n",
      "Inversen är  [[ 0.125  0.125]\n",
      " [-0.375  0.625]]\n"
     ]
    }
   ],
   "source": [
    "#Koefficientmatrisen för ekvationssystemet\n",
    "A=np.array([[5,-1],[3,1]])\n",
    "\n",
    "b=np.array([10,990]).reshape(2,1)\n",
    "\n",
    "#Inversen\n",
    "Ainv=np.linalg.inv(A)\n",
    "\n",
    "#De obekanta koefficienterna\n",
    "X=Ainv@b\n",
    "\n",
    "\n",
    "print(\"Koefficienterna är \\n\", X)\n",
    "print(\"Inversen är \", Ainv)"
   ]
  },
  {
   "cell_type": "markdown",
   "id": "resistant-launch",
   "metadata": {},
   "source": [
    "Vilet innebär att $c_1=125$ och $c_2=615$. Vi kan nu skriva\n",
    "\n",
    "\n",
    "$$\n",
    "\\left(\\begin{array}{c}\n",
    "10\\\\\n",
    "990\n",
    "\\end{array}\\right)=125\\cdot \\left(\\begin{array}{c}\n",
    "5\\\\\n",
    "3\n",
    "\\end{array}\\right)+615\\cdot \\left(\\begin{array}{c}\n",
    "-1\\\\\n",
    "1\n",
    "\\end{array}\\right)\n",
    ".$$\n",
    "\n",
    "\n",
    "Med denna kan vi se hur $X_n$ beräknas och faktiskt ta fram en formel för alla värdena, tack vare egenvektorerna.\n",
    "\n",
    "$$\n",
    "X_{n}\t=125\\cdot1^{n}\\left(\\begin{array}{c}\n",
    "5\\\\\n",
    "3\n",
    "\\end{array}\\right)+615\\cdot0,98^{n}\\left(\\begin{array}{c}\n",
    "-1\\\\\n",
    "1\n",
    "\\end{array}\\right)\n",
    "\t=\\left(\\begin{array}{c}\n",
    "125\\cdot1^{n}\\cdot5+615\\cdot0,98^{n}\\cdot(-1)\\\\\n",
    "125\\cdot1^{n}\\cdot3+615\\cdot0,98^{n}\\cdot1\n",
    "\\end{array}\\right)\n",
    "\t=\\left(\\begin{array}{c}\n",
    "625-615\\cdot0,98^{n}\\\\\n",
    "375+615\\cdot0,98^{n}\n",
    "\\end{array}\\right)\n",
    "$$\n",
    "\n",
    "\n",
    "Om vi låter $n$ gå mot oändligheten ser vi algebraiskt att $X_n$ går mot (625, 375) vilket är de gränser vi fann grafiskt med hjälp av python. Proportionen mellan elementen i egenvektorn är också proportionen mellan gränsvärdena."
   ]
  },
  {
   "cell_type": "markdown",
   "id": "differential-calibration",
   "metadata": {},
   "source": [
    "Uppgift 2 Leslie modellen\n",
    "\n",
    "Leslie modellen används ofta för att dela in populationer i åldersklasser.\n",
    "Vi använder bara 2 åldersklasser. Kalla åldersklasserna för u för unga och v för vuxna. En vektor är då \n",
    "\n",
    "$$\n",
    "P=\\left(\\begin{array}{c}\n",
    "u\\\\\n",
    "v\n",
    "\\end{array}\\right)\n",
    ".$$\n",
    "\n",
    "Utvecklingen 1 år senare ges av matrisen\n",
    "\n",
    "$$T=\\left(\\begin{array}{cc}\n",
    "0,125 & 6\\\\\n",
    "0,2 & 0\n",
    "\\end{array}\\right).\n",
    "$$\n",
    "\n",
    "Vi analyserar den: $u_{t+1}=0,125u_t+6v_t$. Nästa generation unga(ej könsmogna) består av 12,5% av de unga som fanns förra säsongen plus att de vuxna fått 6 nya barn. Den andra ekvationen är: $v_{t+1}=0,2u_t+0v_t$. Nästa generation av vuxna består av att 20% av de unga nu blivit vuxna och inga av de vuxna förra säsongen är kvar som vuxna den andra säsongen.\n",
    "\n",
    "1. Skriv ett pythonprogram som visar utvecklingen år för år för olika startvärden på populationen. Experimentera med olika startvärden.\n",
    "2. Beräkna egenvärdena och använd dem för analys.\n",
    "3. Ett egenvärde kommer att vara negativt, vad innebär det i grafen?\n",
    "4. Vad händer om du väljer en av egenvektorerna som startvärde?\n",
    "5. Prova med andra matriser.\n",
    "\n",
    "$$T=\\left(\\begin{array}{cc}\n",
    "0 & 6\\\\\n",
    "0,2 & 0,25\n",
    "\\end{array}\\right).\n",
    "$$\n",
    "\n",
    "$$T=\\left(\\begin{array}{cc}\n",
    "0 & 6\\\\\n",
    "1/6 & 0\n",
    "\\end{array}\\right).\n",
    "$$\n",
    "\n",
    "$$T=\\left(\\begin{array}{cc}\n",
    "0 & 6\\\\\n",
    "1/7 & 0\n",
    "\\end{array}\\right).\n",
    "$$\n",
    "\n",
    "$$T=\\left(\\begin{array}{cc}\n",
    "0 & 6\\\\\n",
    "1/6 & 0,25\n",
    "\\end{array}\\right).\n",
    "$$\n",
    "$$T=\\left(\\begin{array}{cc}\n",
    "0 & 6\\\\\n",
    "1/12 & 0,25\n",
    "\\end{array}\\right).\n",
    "$$"
   ]
  },
  {
   "cell_type": "code",
   "execution_count": null,
   "id": "thousand-education",
   "metadata": {},
   "outputs": [],
   "source": []
  },
  {
   "cell_type": "code",
   "execution_count": null,
   "id": "nearby-bonus",
   "metadata": {},
   "outputs": [],
   "source": []
  },
  {
   "cell_type": "code",
   "execution_count": null,
   "id": "afraid-vertex",
   "metadata": {},
   "outputs": [],
   "source": []
  },
  {
   "cell_type": "code",
   "execution_count": null,
   "id": "determined-ambassador",
   "metadata": {},
   "outputs": [],
   "source": []
  },
  {
   "cell_type": "code",
   "execution_count": null,
   "id": "advisory-cream",
   "metadata": {},
   "outputs": [],
   "source": []
  },
  {
   "cell_type": "code",
   "execution_count": null,
   "id": "greatest-subscriber",
   "metadata": {},
   "outputs": [],
   "source": []
  },
  {
   "cell_type": "code",
   "execution_count": null,
   "id": "alike-cornell",
   "metadata": {},
   "outputs": [],
   "source": []
  },
  {
   "cell_type": "code",
   "execution_count": null,
   "id": "engaged-exemption",
   "metadata": {},
   "outputs": [],
   "source": []
  },
  {
   "cell_type": "code",
   "execution_count": 55,
   "id": "welsh-signature",
   "metadata": {},
   "outputs": [
    {
     "name": "stdout",
     "output_type": "stream",
     "text": [
      "(array([-3.05311332e-16,  3.09243915e-02,  6.79075608e-01]), array([[ 4.32425908e-16,  7.07587979e-02,  2.83621179e-01],\n",
      "       [-7.07106781e-01,  6.86436768e-01,  1.25297320e-01],\n",
      "       [ 7.07106781e-01, -7.23738735e-01,  9.50715314e-01]]))\n"
     ]
    }
   ],
   "source": [
    "#test\n",
    "import numpy as np\n",
    "\n",
    "T=np.array([[0.11, 0.15, 0.15],[0.3, 0, 0],[0,0.6,0.6]])\n",
    "\n",
    "\n",
    "EV=np.linalg.eig(T)\n",
    "print(EV)"
   ]
  },
  {
   "cell_type": "code",
   "execution_count": 56,
   "id": "editorial-activity",
   "metadata": {},
   "outputs": [
    {
     "name": "stdout",
     "output_type": "stream",
     "text": [
      "x 0.035511940614221464  y 0.015688359368989133  z 0.1190381687157018\n"
     ]
    },
    {
     "data": {
      "image/png": "[encoded data removed]",
      "text/plain": [
       "<Figure size 432x288 with 1 Axes>"
      ]
     },
     "metadata": {
      "needs_background": "light"
     },
     "output_type": "display_data"
    }
   ],
   "source": [
    "#test\n",
    "import matplotlib.pyplot as plt\n",
    "import numpy as np\n",
    "\n",
    "#Startvärdena för \n",
    "X=np.array([100,10,100]).reshape(3,1)\n",
    "\n",
    "#Matrisen\n",
    "T=np.array([[0.11, 0.15, 0.15],[0.3, 0, 0],[0,0.6,0.6]])\n",
    "nr=np.arange(0,18,1)\n",
    "Xserie=X\n",
    "\n",
    "#Vi lagrar alla resultat i Xserie\n",
    "for i in nr:\n",
    "    X=T@X\n",
    "    Xserie=np.hstack((Xserie,X))\n",
    "\n",
    "\n",
    "#Alla x-värden i en vektor, y i en annan\n",
    "x=[];y=[];z=[]\n",
    "for i in nr+1:\n",
    "    x.append(Xserie[0][i])\n",
    "    y.append(Xserie[1][i])\n",
    "    z.append(Xserie[2][i])\n",
    "\n",
    "#Vill se sista värdet i tabellen\n",
    "print(\"x\", x[-1], \" y\", y[-1], \" z\", z[-1])\n",
    "\n",
    "plt.plot(x, \"+\")\n",
    "plt.plot(y, \"o\")\n",
    "plt.plot(z, \"*\")\n",
    "\n",
    "plt.show()"
   ]
  },
  {
   "cell_type": "code",
   "execution_count": 57,
   "id": "political-maryland",
   "metadata": {},
   "outputs": [
    {
     "name": "stdout",
     "output_type": "stream",
     "text": [
      "(array([ 1.15972662, -1.03472662]), array([[ 0.98545341, -0.98182756],\n",
      "       [ 0.16994581,  0.18977526]]))\n"
     ]
    }
   ],
   "source": [
    "#test\n",
    "import numpy as np\n",
    "\n",
    "T=np.array([[0.125, 6],[0.2, 0]])\n",
    "\n",
    "\n",
    "EV=np.linalg.eig(T)\n",
    "print(EV)"
   ]
  },
  {
   "cell_type": "code",
   "execution_count": 58,
   "id": "latter-george",
   "metadata": {},
   "outputs": [
    {
     "name": "stdout",
     "output_type": "stream",
     "text": [
      "x 3516.9165150437984  y 788.1874885030792\n"
     ]
    },
    {
     "data": {
      "image/png": "[encoded data removed]",
      "text/plain": [
       "<Figure size 432x288 with 1 Axes>"
      ]
     },
     "metadata": {
      "needs_background": "light"
     },
     "output_type": "display_data"
    }
   ],
   "source": [
    "#test\n",
    "import matplotlib.pyplot as plt\n",
    "import numpy as np\n",
    "\n",
    "#Startvärdena för \n",
    "X=np.array([10,100]).reshape(2,1)\n",
    "\n",
    "#Matrisen\n",
    "T=np.array([[0.125, 6],[0.2, 0]])\n",
    "nr=np.arange(0,18,1)\n",
    "Xserie=X\n",
    "\n",
    "#Vi lagrar alla resultat i Xserie\n",
    "for i in nr:\n",
    "    X=T@X\n",
    "    Xserie=np.hstack((Xserie,X))\n",
    "\n",
    "\n",
    "#Alla x-värden i en vektor, y i en annan\n",
    "x=[];y=[]\n",
    "for i in nr+1:\n",
    "    x.append(Xserie[0][i])\n",
    "    y.append(Xserie[1][i])\n",
    "\n",
    "#Vill se sista värdet i tabellen\n",
    "print(\"x\", x[-1], \" y\", y[-1])\n",
    "\n",
    "plt.plot(x, \"+\")\n",
    "plt.plot(y, \"o\")\n",
    "\n",
    "plt.show()"
   ]
  },
  {
   "cell_type": "code",
   "execution_count": null,
   "id": "worldwide-interpretation",
   "metadata": {},
   "outputs": [],
   "source": []
  }
 ],
 "metadata": {
  "kernelspec": {
   "display_name": "Python 3",
   "language": "python",
   "name": "python3"
  },
  "language_info": {
   "codemirror_mode": {
    "name": "ipython",
    "version": 3
   },
   "file_extension": ".py",
   "mimetype": "text/x-python",
   "name": "python",
   "nbconvert_exporter": "python",
   "pygments_lexer": "ipython3",
   "version": "3.8.5"
  }
 },
 "nbformat": 4,
 "nbformat_minor": 5
}
