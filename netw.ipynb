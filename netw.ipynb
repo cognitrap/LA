{
 "cells": [
  {
   "cell_type": "markdown",
   "id": "tutorial-worse",
   "metadata": {},
   "source": [
    "### Trafiknätverk\n",
    "\n",
    "Vi analyserar trafiken kring ett torg. Strecken är vägar och torget ligger i mitten och är kvadratiskt. Gatorna är enkelriktade.\n",
    "\n",
    "\n",
    "<img src=\"https://github.com/cognitrap/LA/blob/master/Pictures/netwsquare.png?raw=true\" width=30% height=30%>\n",
    "\n",
    "\n",
    "Vi ställer upp ett krav för hela torget, att alla bilar som kör in också ska köra ut. Det ger oss följande ekvation: $600+300+300+400=x+300+500$ vilket är $1600=800+x$ eller $x=800$.\n",
    "\n",
    "Sedan ställer vi upp en ekvation för varje nod(A,B,C,D):\n",
    "\n",
    "A: $600+300+x_4=x_1$\n",
    "\n",
    "\n",
    "B: $x_1=800+300+x_2$\n",
    "\n",
    "\n",
    "C: $x_2+300+400=x_3$\n",
    "\n",
    "\n",
    "D: $x_3=500+x_4$\n",
    "\n",
    "som ger oss ekvationssystemet\n",
    "\n",
    "\n",
    "$$\n",
    "\\left\\{ \\begin{array}{rcrcrcrcr}\n",
    "x_{1} &  &  &  &  & - & x_{4} & = & 900\\\\\n",
    "x_{1} & - & x_{2} &  &  &  &  & = & 1100\\\\\n",
    " & - & x_{2} & + & x_{3} &  &  & = & 700\\\\\n",
    " &  &  &  & x_{3} & - & x_{4} & = & 500\n",
    "\\end{array}\\right.\n",
    "$$\n",
    "\n",
    "Vilket vi ber python lösa."
   ]
  },
  {
   "cell_type": "code",
   "execution_count": 2,
   "id": "australian-tuner",
   "metadata": {},
   "outputs": [
    {
     "data": {
      "text/latex": [
       "$\\displaystyle \\left\\{\\left( x_{4} + 900, \\  x_{4} - 200, \\  x_{4} + 500, \\  x_{4}\\right)\\right\\}$"
      ],
      "text/plain": [
       "FiniteSet((x4 + 900, x4 - 200, x4 + 500, x4))"
      ]
     },
     "execution_count": 2,
     "metadata": {},
     "output_type": "execute_result"
    }
   ],
   "source": [
    "import sympy as sp\n",
    "x1, x2, x3, x4 = sp.symbols('x1 x2 x3 x4') #definierar vad som är symboler\n",
    "\n",
    "#kraftfullt kommando från symbolig python modulen\n",
    "#klarar av att ange parameterlösningar\n",
    "sp.linsolve([x1-x4-900,x1-x2-1100,-x2+x3-700,x3-x4-500], (x1, x2, x3, x4))"
   ]
  },
  {
   "cell_type": "markdown",
   "id": "dominant-gentleman",
   "metadata": {},
   "source": [
    "Vi sätter $x_4=t$ dvs. som en parameter. Vi har $x_1=t+900$, $x_2=t-200$, $x_3=t+500$ och $x_4=t$\n",
    "\n",
    "\n",
    "Flödet kan inte vara negativt eftersom gatorna är enkelriktade enligt de riktningar vi angivit. Därför måste $t \\geq 200$"
   ]
  },
  {
   "cell_type": "markdown",
   "id": "handled-watch",
   "metadata": {},
   "source": [
    "Uppgift 1\n",
    "\n",
    "\n",
    "Lös följande flödesproblem.\n",
    "\n",
    "I ett vattensystem flödar vatten enligt nedanstående graf. Beräkna flödet i de olika delarna av nätverket. \n",
    "Lös ekvationssystemet med hjälp av sympy.\n",
    "\n",
    "\n",
    "<img src=\"https://github.com/cognitrap/LA/blob/master/Pictures/netwsquare2.png?raw=true\" width=40% height=40%>\n",
    "\n",
    "\n",
    "[Lösningsförslag](./losningsforslag/netwUppg1.ipynb)\n"
   ]
  },
  {
   "cell_type": "code",
   "execution_count": null,
   "id": "sophisticated-fields",
   "metadata": {},
   "outputs": [],
   "source": []
  }
 ],
 "metadata": {
  "kernelspec": {
   "display_name": "Python 3",
   "language": "python",
   "name": "python3"
  },
  "language_info": {
   "codemirror_mode": {
    "name": "ipython",
    "version": 3
   },
   "file_extension": ".py",
   "mimetype": "text/x-python",
   "name": "python",
   "nbconvert_exporter": "python",
   "pygments_lexer": "ipython3",
   "version": "3.8.5"
  }
 },
 "nbformat": 4,
 "nbformat_minor": 5
}
